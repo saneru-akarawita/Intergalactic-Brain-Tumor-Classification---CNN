{
 "cells": [
  {
   "cell_type": "code",
   "execution_count": 1,
   "metadata": {},
   "outputs": [
    {
     "ename": "FileNotFoundError",
     "evalue": "[Errno 2] No such file or directory: 'test.jpg'",
     "output_type": "error",
     "traceback": [
      "\u001b[1;31m---------------------------------------------------------------------------\u001b[0m",
      "\u001b[1;31mFileNotFoundError\u001b[0m                         Traceback (most recent call last)",
      "Cell \u001b[1;32mIn[1], line 33\u001b[0m\n\u001b[0;32m     30\u001b[0m image_size \u001b[39m=\u001b[39m (\u001b[39m150\u001b[39m, \u001b[39m150\u001b[39m)\n\u001b[0;32m     32\u001b[0m \u001b[39m# Preprocess the test image\u001b[39;00m\n\u001b[1;32m---> 33\u001b[0m test_image \u001b[39m=\u001b[39m preprocess_image(image_file, image_size)\n\u001b[0;32m     35\u001b[0m \u001b[39m# Make prediction\u001b[39;00m\n\u001b[0;32m     36\u001b[0m prediction \u001b[39m=\u001b[39m model\u001b[39m.\u001b[39mpredict(test_image)\n",
      "Cell \u001b[1;32mIn[1], line 13\u001b[0m, in \u001b[0;36mpreprocess_image\u001b[1;34m(image_path, image_size)\u001b[0m\n\u001b[0;32m     12\u001b[0m \u001b[39mdef\u001b[39;00m \u001b[39mpreprocess_image\u001b[39m(image_path, image_size):\n\u001b[1;32m---> 13\u001b[0m     img \u001b[39m=\u001b[39m Image\u001b[39m.\u001b[39;49mopen(image_path)\n\u001b[0;32m     14\u001b[0m     img \u001b[39m=\u001b[39m img\u001b[39m.\u001b[39mconvert(\u001b[39m'\u001b[39m\u001b[39mRGB\u001b[39m\u001b[39m'\u001b[39m)\n\u001b[0;32m     15\u001b[0m     img \u001b[39m=\u001b[39m img\u001b[39m.\u001b[39mresize(image_size)\n",
      "File \u001b[1;32mc:\\Installed Software\\anaconda3\\envs\\interior\\lib\\site-packages\\PIL\\Image.py:3236\u001b[0m, in \u001b[0;36mopen\u001b[1;34m(fp, mode, formats)\u001b[0m\n\u001b[0;32m   3233\u001b[0m     filename \u001b[39m=\u001b[39m fp\n\u001b[0;32m   3235\u001b[0m \u001b[39mif\u001b[39;00m filename:\n\u001b[1;32m-> 3236\u001b[0m     fp \u001b[39m=\u001b[39m builtins\u001b[39m.\u001b[39;49mopen(filename, \u001b[39m\"\u001b[39;49m\u001b[39mrb\u001b[39;49m\u001b[39m\"\u001b[39;49m)\n\u001b[0;32m   3237\u001b[0m     exclusive_fp \u001b[39m=\u001b[39m \u001b[39mTrue\u001b[39;00m\n\u001b[0;32m   3239\u001b[0m \u001b[39mtry\u001b[39;00m:\n",
      "\u001b[1;31mFileNotFoundError\u001b[0m: [Errno 2] No such file or directory: 'test.jpg'"
     ]
    }
   ],
   "source": [
    "import os\n",
    "import cv2\n",
    "import numpy as np\n",
    "from tensorflow.keras.models import load_model\n",
    "from PIL import Image\n",
    "import matplotlib.pyplot as plt\n",
    "\n",
    "# Load the trained model\n",
    "model = load_model('trained_model_for_brain_tumor.h5')\n",
    "\n",
    "# Function to preprocess the image\n",
    "def preprocess_image(image_path, image_size):\n",
    "    img = Image.open(image_path)\n",
    "    img = img.convert('RGB')\n",
    "    img = img.resize(image_size)\n",
    "    img_array = np.array(img)\n",
    "    img_array = img_array.astype(np.float32) / 255.0\n",
    "    img_array = np.expand_dims(img_array, axis=0)\n",
    "    return img_array\n",
    "\n",
    "# List of interior types\n",
    "brain_tumor_types = ['glioma', 'meningioma', 'notumor', 'pituitary']\n",
    "\n",
    "# Replace this with the image file path you want to test\n",
    "#image_file = './image_set/Testing/glioma/Te-gl_0020.jpg'\n",
    "#image_file = './image_set/Testing/meningioma/Te-me_0010.jpg'\n",
    "# image_file = './image_set/Testing/pictuitary/Te-pi_0010.jpg'\n",
    "#image_file = './image_set/Testing/notumor/Te-no_0010.jpg'\n",
    "image_file = 'test.jpg'\n",
    "image_size = (150, 150)\n",
    "\n",
    "# Preprocess the test image\n",
    "test_image = preprocess_image(image_file, image_size)\n",
    "\n",
    "# Make prediction\n",
    "prediction = model.predict(test_image)\n",
    "predicted_class = np.argmax(prediction, axis=1)[0]\n",
    "predicted_type = brain_tumor_types[predicted_class]\n",
    "\n",
    "# Get probabilities for all interior types\n",
    "probabilities = prediction[0]\n",
    "\n",
    "# Display the test image and prediction\n",
    "img = cv2.imread(image_file)\n",
    "img = cv2.cvtColor(img, cv2.COLOR_BGR2RGB)\n",
    "plt.imshow(img)\n",
    "plt.axis('off')\n",
    "plt.title(f'Predicted brain-tumor Type: {predicted_type}')\n",
    "plt.show()\n",
    "\n",
    "# Print predicted interior type and probabilities\n",
    "print(f'Predicted brain-tumor Type: {predicted_type}')\n",
    "print('\\nProbabilities:')\n",
    "for brain_tumor_type, probability in zip(brain_tumor_types, probabilities):\n",
    "    print(f'\\t{brain_tumor_type}: {probability * 100:.2f}%')\n"
   ]
  }
 ],
 "metadata": {
  "kernelspec": {
   "display_name": "interior",
   "language": "python",
   "name": "python3"
  },
  "language_info": {
   "codemirror_mode": {
    "name": "ipython",
    "version": 3
   },
   "file_extension": ".py",
   "mimetype": "text/x-python",
   "name": "python",
   "nbconvert_exporter": "python",
   "pygments_lexer": "ipython3",
   "version": "3.10.11"
  },
  "orig_nbformat": 4
 },
 "nbformat": 4,
 "nbformat_minor": 2
}
